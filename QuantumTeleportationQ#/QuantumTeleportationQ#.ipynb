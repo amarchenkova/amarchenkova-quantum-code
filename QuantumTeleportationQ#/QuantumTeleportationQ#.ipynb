{
 "cells": [
  {
   "cell_type": "markdown",
   "metadata": {},
   "source": [
    "# Quantum Teleportation - Basics in Q# #"
   ]
  },
  {
   "cell_type": "markdown",
   "metadata": {},
   "source": [
    "_I’m very happy to present this article as part of the Q# Advent calendar! Every day, one community member wrote a blog post about or using Q#, the quantum development SDK by Microsoft. Check out the rest of the blog posts at the advent calendar link. And thank you to Microsoft Quantum and team for letting me participate with my post on Quantum teleportation with Q#!_\n",
    "\n",
    "See the blog post here: https://www.amarchenkova.com/2019/12/25/quantum-teleportation-q-microsoft/\n",
    "\n",
    "Quantum teleportation is a fundamental concept in quantum computing. It introduces a lot of key quantum computing concepts. Here, I’ll cover what quantum teleportation is, the steps to teleport quantum information, and show you how to write this in Q#, Microsoft’s Quantum Software Development Kit (SDK)."
   ]
  },
  {
   "cell_type": "markdown",
   "metadata": {},
   "source": [
    "## What is quantum teleportation?\n"
   ]
  },
  {
   "cell_type": "markdown",
   "metadata": {},
   "source": [
    "Quantum teleportation is a critical concepts to take advantage of the powers of quantum information. It's the key behind quantum key distribution and long distance quantum communication, and also used in quantum computing. It allows you to \"teleport\" - or move the quantum state - to another qubit.\n",
    "\n",
    "But why do we need to do something special to copy quantum information? For classical information, we simply read the bits, and copy them to another place. We can’t do that on a quantum system. The no-cloning theorem says we cannot copy a quantum state exactly. So, we have to do something a little different. Quantum teleportation means we \"move\" the quantum state of to another qubit. This requires destroying the state of the qubit we teleported, so we do not violate no-cloning.\n",
    "\n",
    "Quantum teleportation has been successful over 4 miles in Canada and in Hefei over fiber optics, and 870 mi in space at the Quantum Experiments at Space Scale (QUESS) project."
   ]
  },
  {
   "cell_type": "markdown",
   "metadata": {},
   "source": [
    "![There's always a relevant XKCD](quantum_teleportation.png \"There's always a relevant XKCD\")"
   ]
  },
  {
   "cell_type": "markdown",
   "metadata": {},
   "source": [
    "## Steps to quantum teleportation"
   ]
  },
  {
   "cell_type": "markdown",
   "metadata": {},
   "source": [
    "Quantum teleportation requires 3 qubits, and two classical bits. Alice wants to teleport the state of a qubit to Bob at some distance away.\n",
    "\n",
    "Along the way, I'll introduce the quantum concepts along with the Q# code."
   ]
  },
  {
   "cell_type": "markdown",
   "metadata": {},
   "source": [
    "### Entangle Two of our Qubits"
   ]
  },
  {
   "cell_type": "markdown",
   "metadata": {},
   "source": [
    "First, Alice has a Qubit (let’s call this the message) Q_message that has some unknown quantum state.\n",
    "\n",
    "Alice also gets two more qubits. Let's call them Q_Alice and Q_Bob (Q_Alice will remain with her, and she will later send the other qubit to Bob) and entangles them.\n",
    "\n",
    "Alice entangles these qubits by applying:"
   ]
  },
  {
   "cell_type": "code",
   "execution_count": null,
   "metadata": {},
   "outputs": [],
   "source": [
    "// Entangle pair of qubits\n",
    "H(Q_Alice);\n",
    "CNOT(Q_Alice, Q_Bob);"
   ]
  },
  {
   "cell_type": "markdown",
   "metadata": {},
   "source": [
    "- A Hadamard gate to Q_Alice\n",
    "- CNOT on Q_Alice and Q_Bob, with Q_Alice being the Control, and Q_Bob being the target\n",
    "\n",
    "The Hadamard and CNOT sequence is how we entangle a pair of qubits.\n",
    "\n",
    "The Hadamard gate is a single qubit gate. It puts the qubit into an equal superposition (1/2 probability of 0, 1/2 probability of 1). A Controlled-NOT (CNOT) gate is a two-qubit gate. There is a target qubit, and a control qubit. It performs a NOT on the target qubit only if the control qubit is in the 1 state.\n",
    "\n",
    "You can now send the entangled qubit (Q_Bob) to Bob."
   ]
  },
  {
   "cell_type": "markdown",
   "metadata": {},
   "source": [
    "### Bell measurement"
   ]
  },
  {
   "cell_type": "markdown",
   "metadata": {},
   "source": [
    "Then, we perform a Bell measurement:\n",
    "\n",
    "- CNOT gate on Q_message (control) and Q_Alice (target): CNOT(control, target)\n",
    "\n",
    "- Hadamard on Q_message: H(qubit)\n",
    "\n",
    "- Measuring Q_message and Q_Alice: M(qubit)"
   ]
  },
  {
   "cell_type": "code",
   "execution_count": null,
   "metadata": {},
   "outputs": [],
   "source": [
    "// Bell measurement\n",
    "CNOT(Q_message, Q_Alice);\n",
    "H(Q_message);\n",
    "let data1 = M(Q_message);\n",
    "let data2 = M(Q_Alice);"
   ]
  },
  {
   "cell_type": "markdown",
   "metadata": {},
   "source": [
    "Alice then measures her qubits — we now have a 0 or 1 from each qubit, meaning there are 4 potential combinations: 00, 01, 10, 11.\n",
    "\n",
    "Alice sends this information to Bob as well. The result of Q_message is the first bit, and the result of Q_Alice the second bit."
   ]
  },
  {
   "cell_type": "markdown",
   "metadata": {},
   "source": [
    "### Bob's Operations"
   ]
  },
  {
   "cell_type": "markdown",
   "metadata": {},
   "source": [
    "After the measurement, depending on what Bob receives, he does an operation on his qubit —"
   ]
  },
  {
   "cell_type": "code",
   "execution_count": null,
   "metadata": {},
   "outputs": [],
   "source": [
    "// Bob's operations\n",
    "if (data1 == One) { Z(Q_Bob); }\n",
    "if (data2 == One) { X(Q_Bob); }"
   ]
  },
  {
   "cell_type": "markdown",
   "metadata": {},
   "source": [
    "If Alice transmits 00: then Bob does nothing to his qubit\n",
    "\n",
    "If Alice transmits 01: then Bob applies the X gate\n",
    "\n",
    "If Alice transmits 10: then Bob applies the Z gate\n",
    "\n",
    "If Alice transmits 11: then Bob applies Z gate, then Bob applies the X gate.\n",
    "\n",
    "and Bob now has a qubit with the state that Alice's original message qubit had."
   ]
  },
  {
   "cell_type": "markdown",
   "metadata": {},
   "source": [
    "#### Congratulations! You have teleported an unknown quantum state using Q#.\n",
    "\n",
    "_But why does this work?_\n",
    "\n",
    "This works because the states of Alice's qubit and Bob's qubit depend on each other. Let's look at the full circuit. q[0] is Q_message, q[1] is Q_Alice, and q[2] is Q_Bob.\n",
    "\n",
    "![Full circuit quantum teleport](q_fullcircuitqt.png \"quantum teleportation q# full circuit\")\n",
    "\n",
    "\n",
    "The classical information we receive from Alice tells us how Bob's state differs from Alice's original state, and what gates we need to apply to it to get Bob's qubit back to the initial state.\n",
    "\n",
    "Then, if Alice sends 00, that means neither of the CNOT gates are activated - that means the state of Bob's doesn't need to change.\n",
    "\n",
    "If Alice sends 01, that means that the measurement of q[0] was 0, so the CNOT across q[0] and q[1] wasn't activated, since q[0] was the control. However, q[1] was 1. That means the CNOT across q[1] and q[2] is activated, and NOT is applied on q[2], since q[1] was the control and equal to 1. A NOT gate is the equivalent of a X gate. Then, to \"undo\" that, Bob needs to apply an X gate to his qubit q[2] to get back to the original state of q[0], or the original message qubit."
   ]
  },
  {
   "cell_type": "markdown",
   "metadata": {},
   "source": [
    "### Full Code"
   ]
  },
  {
   "cell_type": "code",
   "execution_count": 1,
   "metadata": {},
   "outputs": [
    {
     "name": "stdout",
     "output_type": "stream",
     "text": [
      "/snippet_.qs(1,90): warning QS6003: The namespace is already open.\n",
      "/snippet_.qs(2,6): warning QS6003: The namespace is already open.\n"
     ]
    },
    {
     "data": {
      "application/json": "[\"IsMinus\",\"IsPlus\",\"PrepareRandomMessage\",\"SetToMinus\",\"SetToPlus\"]",
      "text/html": [
       "<ul><li>IsMinus</li><li>IsPlus</li><li>PrepareRandomMessage</li><li>SetToMinus</li><li>SetToPlus</li></ul>"
      ],
      "text/plain": [
       "IsMinus, IsPlus, PrepareRandomMessage, SetToMinus, SetToPlus"
      ]
     },
     "execution_count": 1,
     "metadata": {},
     "output_type": "execute_result"
    }
   ],
   "source": [
    "open Microsoft.Quantum.Intrinsic;\n",
    "open Microsoft.Quantum.Canon;\n",
    "open Microsoft.Quantum.Math;\n",
    "    \n",
    "    // Set the qubit's state to |+⟩.\n",
    "    operation SetToPlus(q: Qubit) : Unit {\n",
    "        Reset(q);\n",
    "        H(q);\n",
    "    }\n",
    "\n",
    "    // Set the qubit's state to |−⟩.\n",
    "    operation SetToMinus(q: Qubit) : Unit {\n",
    "        Reset(q);\n",
    "        X(q);\n",
    "        H(q);\n",
    "    }\n",
    "\n",
    "    // Returns true if qubit is |+> (assumes qubit is either |+> or |->)\n",
    "    operation IsPlus(q: Qubit) : Bool {\n",
    "        return (Measure([PauliX], [q]) == Zero);\n",
    "    }\n",
    "\n",
    "    // Returns true if qubit is |-> (assumes qubit is either |+> or |->)\n",
    "    operation IsMinus(q: Qubit) : Bool {\n",
    "        return (Measure([PauliX], [q]) == One);\n",
    "    }\n",
    "\n",
    "    // Prepares the qubit into |+> or |->\n",
    "    operation PrepareRandomMessage(q: Qubit) : Unit {        \n",
    "        let choice = RandomInt(2);\n",
    "\n",
    "        if (choice == 0) {\n",
    "            Message(\"Sending |->\");\n",
    "            SetToMinus(q);\n",
    "        } else {\n",
    "            Message(\"Sending |+>\");\n",
    "            SetToPlus(q);\n",
    "        }\n",
    "    }"
   ]
  },
  {
   "cell_type": "code",
   "execution_count": 2,
   "metadata": {},
   "outputs": [
    {
     "data": {
      "application/json": "[\"Teleport\"]",
      "text/html": [
       "<ul><li>Teleport</li></ul>"
      ],
      "text/plain": [
       "Teleport"
      ]
     },
     "execution_count": 2,
     "metadata": {},
     "output_type": "execute_result"
    }
   ],
   "source": [
    "\n",
    "/// # Summary\n",
    "/// Sends the state of one qubit to a target qubit by using\n",
    "/// teleportation.\n",
    "/// \n",
    "/// Notice that after calling Teleport, the state of `msg` is\n",
    "/// collapsed.\n",
    "///\n",
    "/// # Input\n",
    "/// ## msg\n",
    "/// A qubit whose state we wish to send.\n",
    "/// ## target\n",
    "/// A qubit initially in the |0〉 state that we want to send\n",
    "/// the state of msg to.\n",
    "operation Teleport (msg : Qubit, target : Qubit) : Unit {\n",
    "\n",
    "    using (register = Qubit()) {\n",
    "        // Create some entanglement that we can use to send the message.\n",
    "        \n",
    "        H(Q_Alice);\n",
    "        CNOT(Q_Alice, Q_Bob);\n",
    "\n",
    "        // Encode the message into the entangled pair,\n",
    "        // and measure the qubits to extract the classical data\n",
    "        // we need to correctly decode the message into the target qubit:\n",
    "        CNOT(msg, register);\n",
    "        H(msg);\n",
    "        let data1 = M(msg);\n",
    "        let data2 = M(register);\n",
    "\n",
    "        // decode the message\n",
    "        if (data1 == One) { Z(target); }\n",
    "        if (data2 == One) { X(target); }\n",
    "\n",
    "        // Reset our \"register\" qubit before releasing it.\n",
    "        Reset(register);\n",
    "    }\n",
    "}"
   ]
  },
  {
   "cell_type": "code",
   "execution_count": 3,
   "metadata": {},
   "outputs": [
    {
     "data": {
      "application/json": "[\"TeleportRandomMessage\"]",
      "text/html": [
       "<ul><li>TeleportRandomMessage</li></ul>"
      ],
      "text/plain": [
       "TeleportRandomMessage"
      ]
     },
     "execution_count": 3,
     "metadata": {},
     "output_type": "execute_result"
    }
   ],
   "source": [
    "operation TeleportRandomMessage () : Unit {\n",
    "\n",
    "    using (qubits = Qubit[2]) {\n",
    "        let msg = qubits[0];\n",
    "        let target = qubits[1];\n",
    "\n",
    "        // Prepare |-> or |+> state\n",
    "        PrepareRandomMessage(msg);\n",
    "\n",
    "        // Teleport\n",
    "        Teleport(msg, target);\n",
    "\n",
    "        // Report message received\n",
    "        if (IsPlus(target))  { Message(\"Received |+>\"); }\n",
    "        if (IsMinus(target)) { Message(\"Received |->\"); }\n",
    "\n",
    "        ResetAll(qubits);\n",
    "    }\n",
    "}"
   ]
  },
  {
   "cell_type": "code",
   "execution_count": 4,
   "metadata": {},
   "outputs": [
    {
     "name": "stdout",
     "output_type": "stream",
     "text": [
      "Sending |+>\n",
      "Received |+>\n"
     ]
    },
    {
     "data": {
      "application/json": "{\"@type\":\"tuple\"}",
      "text/plain": [
       "()"
      ]
     },
     "execution_count": 4,
     "metadata": {},
     "output_type": "execute_result"
    }
   ],
   "source": [
    "%simulate TeleportRandomMessage"
   ]
  },
  {
   "cell_type": "markdown",
   "metadata": {},
   "source": [
    "## Additional Resources: ##"
   ]
  },
  {
   "cell_type": "markdown",
   "metadata": {},
   "source": [
    "1. https://github.com/microsoft/QuantumKatas/tree/master/Teleportation\n",
    "2. https://github.com/microsoft/Quantum/tree/master/samples/getting-started/teleportation\n",
    "3. Hidary, J. D. (2019). Quantum computing: an applied approach. Cham, Switzerland: Springer.\n",
    "4. Johnston, E. R., Harrigan, N., & Gimeno-Segovia, M. (2019). Programming quantum computers: essential algorithms and code samples. Sabastopal, CA: OReilly Media, Incorporated."
   ]
  }
 ],
 "metadata": {
  "kernelspec": {
   "display_name": "Q#",
   "language": "qsharp",
   "name": "iqsharp"
  },
  "language_info": {
   "file_extension": ".qs",
   "mimetype": "text/x-qsharp",
   "name": "qsharp",
   "version": "0.4"
  }
 },
 "nbformat": 4,
 "nbformat_minor": 2
}
